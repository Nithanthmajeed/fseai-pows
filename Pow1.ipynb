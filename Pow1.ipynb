{
 "cells": [
  {
   "cell_type": "code",
   "execution_count": 44,
   "metadata": {},
   "outputs": [
    {
     "name": "stdout",
     "output_type": "stream",
     "text": [
      "enter your first namenithanth\n",
      "enter your last namemajeed\n",
      "HI NITHANTH MAJEED\n",
      "your user name is: nithanthmajeed@example\n",
      "None\n"
     ]
    }
   ],
   "source": [
    "f_name=list(input(\"enter your first name\"))  ## i have converted the following input to list here itself ##\n",
    "l_name=list(input(\"enter your last name\"))\n",
    "\n",
    "\n",
    "\n",
    "f_name= [i.upper() for i in f_name]\n",
    "l_name= [i.upper() for i in l_name]\n",
    "\n",
    "g=print(\"hi\",\"\".join(f_name) ,\"\".join(l_name))\n",
    "\n",
    "u_name=(f_name+l_name)\n",
    "u_name.append(\"@example\")\n",
    "\n",
    "h=\"\".join(u_name).lower()\n",
    "\n",
    "\n",
    "\n",
    "print(\"your user name is:\",h)\n",
    "\n",
    "print(g)\n"
   ]
  },
  {
   "cell_type": "code",
   "execution_count": null,
   "metadata": {},
   "outputs": [],
   "source": []
  }
 ],
 "metadata": {
  "kernelspec": {
   "display_name": "Python 3",
   "language": "python",
   "name": "python3"
  },
  "language_info": {
   "codemirror_mode": {
    "name": "ipython",
    "version": 3
   },
   "file_extension": ".py",
   "mimetype": "text/x-python",
   "name": "python",
   "nbconvert_exporter": "python",
   "pygments_lexer": "ipython3",
   "version": "3.8.5"
  }
 },
 "nbformat": 4,
 "nbformat_minor": 4
}
