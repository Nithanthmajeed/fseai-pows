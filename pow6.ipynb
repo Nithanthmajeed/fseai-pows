{
 "cells": [
  {
   "cell_type": "code",
   "execution_count": 58,
   "metadata": {},
   "outputs": [],
   "source": [
    "class Groccerystore:\n",
    "    dic={}\n",
    "    dct={}\n",
    "    def __init__(self, product_id, product_name, product_price):\n",
    "        self.product_id = product_id\n",
    "        self.product_name = product_name\n",
    "        self.product_price = product_price\n",
    "        \n",
    "    \n",
    "    def add_to_dictionary(self):\n",
    "        Groccerystore.dic[self.product_id]=[self.product_name,self.product_price]\n",
    "        \n",
    "\n",
    "    def show_dictionary(self) :\n",
    "               return Groccerystore.dic\n",
    "        \n",
    "    def sort_out(self):\n",
    "        dicts = {}\n",
    "        c=0\n",
    "        \n",
    "        for items in Groccerystore.dic.items():\n",
    "            if items[1][1]<9:\n",
    "                c=c+1\n",
    "        print(c)   \n",
    "                \n",
    "        \n",
    "                \n",
    "            \n",
    "                \n",
    "                \n",
    "                \n",
    "            \n",
    "                \n",
    "            \n",
    "            \n",
    "            \n",
    "            \n",
    "            \n",
    "\n",
    "            \n",
    "            \n",
    "    \n",
    "                \n",
    "            \n",
    "            \n",
    "        \n",
    "        \n",
    "        \n",
    "         \n",
    "            \n",
    "        \n",
    "   \n",
    "        \n",
    "        \n",
    "     \n",
    "\n",
    "        \n",
    "    \n",
    "        \n",
    "        \n",
    "        "
   ]
  },
  {
   "cell_type": "code",
   "execution_count": 61,
   "metadata": {},
   "outputs": [],
   "source": [
    "g = Groccerystore(101, 'Wheat', 2)\n",
    "g.add_to_dictionary()\n",
    "g = Groccerystore(201, 'Biscuits', 5)\n",
    "g.add_to_dictionary()\n",
    "g = Groccerystore(312, 'Oil', 12)\n",
    "g.add_to_dictionary()\n",
    "\n",
    "\n",
    "\n",
    "\n"
   ]
  },
  {
   "cell_type": "code",
   "execution_count": 62,
   "metadata": {},
   "outputs": [
    {
     "data": {
      "text/plain": [
       "{101: ['Wheat', 2], 201: ['Biscuits', 5], 312: ['Oil', 12]}"
      ]
     },
     "execution_count": 62,
     "metadata": {},
     "output_type": "execute_result"
    }
   ],
   "source": [
    "g.show_dictionary()\n"
   ]
  },
  {
   "cell_type": "code",
   "execution_count": 63,
   "metadata": {},
   "outputs": [
    {
     "name": "stdout",
     "output_type": "stream",
     "text": [
      "2\n"
     ]
    }
   ],
   "source": [
    "g.sort_out()"
   ]
  },
  {
   "cell_type": "code",
   "execution_count": null,
   "metadata": {},
   "outputs": [],
   "source": [
    "\n",
    "     \n",
    "            "
   ]
  },
  {
   "cell_type": "code",
   "execution_count": 45,
   "metadata": {},
   "outputs": [],
   "source": [
    "for items in Groccerystore.dic.items():\n",
    "    print(items)\n",
    "            "
   ]
  },
  {
   "cell_type": "code",
   "execution_count": 40,
   "metadata": {},
   "outputs": [
    {
     "ename": "NameError",
     "evalue": "name 'items' is not defined",
     "output_type": "error",
     "traceback": [
      "\u001b[1;31m---------------------------------------------------------------------------\u001b[0m",
      "\u001b[1;31mNameError\u001b[0m                                 Traceback (most recent call last)",
      "\u001b[1;32m<ipython-input-40-92fc115b3de9>\u001b[0m in \u001b[0;36m<module>\u001b[1;34m\u001b[0m\n\u001b[1;32m----> 1\u001b[1;33m \u001b[0mitems\u001b[0m\u001b[1;33m\u001b[0m\u001b[1;33m\u001b[0m\u001b[0m\n\u001b[0m",
      "\u001b[1;31mNameError\u001b[0m: name 'items' is not defined"
     ]
    }
   ],
   "source": [
    "items"
   ]
  },
  {
   "cell_type": "code",
   "execution_count": null,
   "metadata": {},
   "outputs": [],
   "source": []
  }
 ],
 "metadata": {
  "kernelspec": {
   "display_name": "Python 3",
   "language": "python",
   "name": "python3"
  },
  "language_info": {
   "codemirror_mode": {
    "name": "ipython",
    "version": 3
   },
   "file_extension": ".py",
   "mimetype": "text/x-python",
   "name": "python",
   "nbconvert_exporter": "python",
   "pygments_lexer": "ipython3",
   "version": "3.8.5"
  }
 },
 "nbformat": 4,
 "nbformat_minor": 4
}
