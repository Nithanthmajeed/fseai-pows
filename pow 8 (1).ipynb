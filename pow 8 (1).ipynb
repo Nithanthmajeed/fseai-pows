{
 "cells": [
  {
   "cell_type": "code",
   "execution_count": 27,
   "metadata": {},
   "outputs": [],
   "source": [
    "import numpy as np\n",
    "import cv2\n",
    "import matplotlib.pyplot as plt\n",
    "\n",
    "def meanfilter(image,ksize):\n",
    "    img=cv2.imread(image)\n",
    "    m = cv2.cvtColor(img, cv2.COLOR_RGB2GRAY)\n",
    "    kernel = (1 / 9) * np.ones((ksize, ksize))\n",
    "    imagewidth,imageheight=m.shape\n",
    "    paddingheight,paddingwidth=(kernel.shape[0]//2),(kernel.shape[1]//2)\n",
    "    pad=np.zeros((imagewidth+(paddingheight*2), imageheight+(paddingwidth*2)))\n",
    "    pad.shape\n",
    "    pad[paddingwidth:paddingwidth+imagewidth,paddingheight:paddingheight+imageheight]=m\n",
    "    output=np.zeros((imagewidth,imageheight))\n",
    "    for row in range(imagewidth):\n",
    "        for col in range(imageheight):\n",
    "            output[row,col]=np.sum(pad[row:row+ksize,col:col+ksize]*kernel)\n",
    "    \n",
    "    plt.imshow(output,cmap='gray')\n",
    "        \n",
    "def GaussianFilter(image,kernel):\n",
    "    img=cv2.imread(image)\n",
    "    m = cv2.cvtColor(img, cv2.COLOR_RGB2GRAY)\n",
    "    kernel=np.array([[1,2,3,2,1],\n",
    "                [2,3,4,3,2],\n",
    "                [3,4,5,4,3],\n",
    "                [2,3,4,3,2],\n",
    "                [1,2,3,2,1]])\n",
    "    imagewidth,imageheight=m.shape\n",
    "    paddingheight,paddingwidth=(kernel.shape[0]//2),(kernel.shape[1]//2)\n",
    "    pad=np.zeros((imagewidth+(paddingheight*2), imageheight+(paddingwidth*2)))\n",
    "    pad.shape\n",
    "    pad[paddingwidth:paddingwidth+imagewidth,paddingheight:paddingheight+imageheight]=m\n",
    "    output=np.zeros((imagewidth,imageheight))\n",
    "    for row in range(imagewidth):\n",
    "        for col in range(imageheight):\n",
    "            output[row,col]=np.sum(pad[row:row+kernel.shape[0],col:col+kernel.shape[1]]*kernel)\n",
    "    \n",
    "    plt.imshow(output,cmap='gray')\n",
    "\n",
    "def threshold(image):\n",
    "    image=cv2.imread(image)\n",
    "    m = cv2.cvtColor(image, cv2.COLOR_RGB2GRAY)\n",
    "    imagewidth,imageheight=m.shape\n",
    "    avg=np.average(m)\n",
    "    output=np.zeros((imagewidth,imageheight))\n",
    "    for row in range(imagewidth):\n",
    "        for col in range(imageheight):\n",
    "            if m[row,col]>=avg:\n",
    "                output[row,col]=255\n",
    "            else:\n",
    "                output[row,col]=0\n",
    "    plt.imshow(output,cmap='gray')\n",
    "        \n",
    "    \n",
    "\n",
    " \n",
    "\n",
    "    \n",
    "    \n",
    "    "
   ]
  },
  {
   "cell_type": "code",
   "execution_count": 28,
   "metadata": {},
   "outputs": [
    {
     "data": {
      "image/png": "[encoded data removed]",
      "text/plain": [
       "<Figure size 432x288 with 1 Axes>"
      ]
     },
     "metadata": {
      "needs_background": "light"
     },
     "output_type": "display_data"
    }
   ],
   "source": [
    "threshold(\"gems.jpg\")"
   ]
  },
  {
   "cell_type": "code",
   "execution_count": 18,
   "metadata": {},
   "outputs": [],
   "source": [
    " kernel=np.array([[1,2,3,2,1],\n",
    "                [2,3,4,3,2],\n",
    "                [3,4,5,4,3],\n",
    "                [2,3,4,3,2],\n",
    "                [1,2,3,2,1]])"
   ]
  },
  {
   "cell_type": "code",
   "execution_count": 19,
   "metadata": {},
   "outputs": [
    {
     "data": {
      "text/plain": [
       "(5, 5)"
      ]
     },
     "execution_count": 19,
     "metadata": {},
     "output_type": "execute_result"
    }
   ],
   "source": [
    "kernel.shape"
   ]
  },
  {
   "cell_type": "code",
   "execution_count": null,
   "metadata": {},
   "outputs": [],
   "source": []
  }
 ],
 "metadata": {
  "kernelspec": {
   "display_name": "Python 3",
   "language": "python",
   "name": "python3"
  },
  "language_info": {
   "codemirror_mode": {
    "name": "ipython",
    "version": 3
   },
   "file_extension": ".py",
   "mimetype": "text/x-python",
   "name": "python",
   "nbconvert_exporter": "python",
   "pygments_lexer": "ipython3",
   "version": "3.8.5"
  }
 },
 "nbformat": 4,
 "nbformat_minor": 4
}
