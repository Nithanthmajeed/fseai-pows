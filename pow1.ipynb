{
 "cells": [
  {
   "cell_type": "markdown",
   "metadata": {},
   "source": [
    "# PoW-1 | String Operations"
   ]
  },
  {
   "cell_type": "code",
   "execution_count": null,
   "metadata": {},
   "outputs": [],
   "source": [
    "f_name=list(input(\"enter your first name\"))  ## i have converted the following input to list here itself ##\n",
    "l_name=list(input(\"enter your last name\"))\n",
    "\n",
    "u_name=f_name+l_name                         ## i had to join the 2 set of lists here itself and append the desired object##\n",
    "u_name.append(\"@example.com\")                ## This is because i will get a uppercase letters for the user name if i implement to the last part of the program ##   \n",
    "\n",
    "\n",
    "for i in range(len(f_name)):                ## for the conversion of the lower case to upper case i just converted the letters to ascii numbers and subtracted 32 which is the difference between upper and lower case##\n",
    "    h=chr(ord(f_name[i])-32)\n",
    "    f_name[i]=h\n",
    "b=\"\".join(f_name)   \n",
    "\n",
    "for i in range(len(l_name)):\n",
    "    h=chr(ord(l_name[i])-32)                ## i did the loop 2 times for the first name and the last name so that i could easily use print these with print fucntion##\n",
    "    l_name[i]=h\n",
    "c=\"\".join(l_name) \n",
    " \n",
    "print(\"HI,\",b ,c )\n",
    "print(\"your user name is:\", \"\".join(u_name) )  ## and the final step is to call the function with joning the inputed list and to print them ##\n",
    "\n"
   ]
  }
 ],
 "metadata": {
  "kernelspec": {
   "display_name": "Python 3",
   "language": "python",
   "name": "python3"
  },
  "language_info": {
   "codemirror_mode": {
    "name": "ipython",
    "version": 3
   },
   "file_extension": ".py",
   "mimetype": "text/x-python",
   "name": "python",
   "nbconvert_exporter": "python",
   "pygments_lexer": "ipython3",
   "version": "3.8.5"
  }
 },
 "nbformat": 4,
 "nbformat_minor": 4
}
