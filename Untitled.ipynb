{
 "cells": [
  {
   "cell_type": "code",
   "execution_count": 1,
   "metadata": {},
   "outputs": [],
   "source": [
    "import matplotlib.pyplot as plt\n",
    "\n",
    "class car:\n",
    "    def _init_(self,speed,history,color):\n",
    "        self.speed=speed\n",
    "        self.history=history\n",
    "        self.color=color\n",
    "    \n",
    "    def drive(self,direction):\n",
    "        direction=direction.lower()\n",
    "        x,y =history[-1]\n",
    "        if direction == \"north\":\n",
    "            y += speed\n",
    "        elif direction ==\"south\":\n",
    "            y -= speed\n",
    "        elif direction ==\"east\":\n",
    "            x += speed\n",
    "        elif direction == \"west\":\n",
    "            x -= speed\n",
    "        else:\n",
    "            print(\"direction invalid\")\n",
    "        history.append((x,y))\n",
    "        \n",
    "        draw(history, color)\n",
    "        \n",
    "        \n",
    "        return history\n",
    "        \n",
    "   \n",
    "   \n",
    "    def draw(self):\n",
    "        plt.clf()\n",
    "        x = []\n",
    "        y = []\n",
    "        for element in self.history:\n",
    "            x.append(element[0])\n",
    "            y.append(element[1])\n",
    "            plt.plot(x, y, color=self.color)\n",
    "            plt.xlabel(\"SOUTH\")\n",
    "            plt.ylabel(\"WEST\")\n",
    "            plt.title(\"NORTH\")\n",
    "            plt.cla()\n",
    "            plt.close()\n",
    "            plt.show()\n",
    "           \n",
    "            \n",
    " \n"
   ]
  },
  {
   "cell_type": "code",
   "execution_count": 2,
   "metadata": {},
   "outputs": [],
   "source": [
    "history=[(0,0)]\n",
    "color='red'\n",
    "speed=1\n",
    "car.drive=('north')"
   ]
  },
  {
   "cell_type": "code",
   "execution_count": null,
   "metadata": {},
   "outputs": [],
   "source": []
  }
 ],
 "metadata": {
  "kernelspec": {
   "display_name": "Python 3",
   "language": "python",
   "name": "python3"
  },
  "language_info": {
   "codemirror_mode": {
    "name": "ipython",
    "version": 3
   },
   "file_extension": ".py",
   "mimetype": "text/x-python",
   "name": "python",
   "nbconvert_exporter": "python",
   "pygments_lexer": "ipython3",
   "version": "3.8.5"
  }
 },
 "nbformat": 4,
 "nbformat_minor": 4
}
