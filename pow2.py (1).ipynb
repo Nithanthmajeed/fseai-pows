{
 "cells": [
  {
   "cell_type": "code",
   "execution_count": 1,
   "metadata": {},
   "outputs": [],
   "source": [
    "student_details={1: [\"Bruce\",22,(91,22,45)], 2:[\"Tony\",23,(90,55,88)], 3:[\"Steve\",24,(60,70,80)],4:[\"Natasha\",25,(50,55,90)]}"
   ]
  },
  {
   "cell_type": "code",
   "execution_count": 31,
   "metadata": {},
   "outputs": [
    {
     "name": "stdout",
     "output_type": "stream",
     "text": [
      "average mark of A is 39.5\n",
      "average mark of B is 58.25\n",
      "average mark of C is 52.5\n",
      "average mark of D is 48.75\n",
      "average age of the students is 23.5\n"
     ]
    }
   ],
   "source": [
    "print('average mark of', student_details[1][0], 'is' ,(sum(student_details[1][2])/4))\n",
    "print('average mark of', student_details[2][0], 'is' ,(sum(student_details[2][2])/4))\n",
    "print('average mark of', student_details[3][0], 'is' ,(sum(student_details[3][2])/4))\n",
    "print('average mark of', student_details[4][0], 'is' ,(sum(student_details[4][2])/4))\n",
    "print('average age of the students is',(int(student_details[1][1]+student_details[2][1]+student_details[3][1]+student_details[4][1])/4))"
   ]
  },
  {
   "cell_type": "code",
   "execution_count": 24,
   "metadata": {},
   "outputs": [
    {
     "data": {
      "text/plain": [
       "(91, 22, 45, 90, 55, 88, 60, 70, 80, 50, 55, 90)"
      ]
     },
     "execution_count": 24,
     "metadata": {},
     "output_type": "execute_result"
    }
   ],
   "source": []
  },
  {
   "cell_type": "code",
   "execution_count": null,
   "metadata": {},
   "outputs": [],
   "source": []
  }
 ],
 "metadata": {
  "kernelspec": {
   "display_name": "Python 3",
   "language": "python",
   "name": "python3"
  },
  "language_info": {
   "codemirror_mode": {
    "name": "ipython",
    "version": 3
   },
   "file_extension": ".py",
   "mimetype": "text/x-python",
   "name": "python",
   "nbconvert_exporter": "python",
   "pygments_lexer": "ipython3",
   "version": "3.8.5"
  }
 },
 "nbformat": 4,
 "nbformat_minor": 4
}
