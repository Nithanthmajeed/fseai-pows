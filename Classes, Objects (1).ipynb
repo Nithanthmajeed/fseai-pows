{
 "cells": [
  {
   "cell_type": "code",
   "execution_count": 7,
   "metadata": {},
   "outputs": [],
   "source": [
    "class Employees:\n",
    "    def __init__(self, name, id_no, joining_year, salary):\n",
    "        self.name = name\n",
    "        self.id_no = id_no\n",
    "        self.joining_year = joining_year\n",
    "        self.salary = salary\n",
    "        \n",
    "    def year_exp(self, current_year):\n",
    "        joining_year = self.joining_year\n",
    "        years_served = current_year - joining_year\n",
    "        return years_served \n",
    "    \n",
    "    def salary_raise(self):\n",
    "        current_year = 2020\n",
    "        years_served = self.year_exp(current_year)\n",
    "        if years_served >= 5:\n",
    "            amt = years_served//5\n",
    "            print(\"eligible for raise with a percentage of \", amt*10)\n",
    "        else:\n",
    "            print(\"not eligible for raise\")\n",
    "    "
   ]
  },
  {
   "cell_type": "code",
   "execution_count": 8,
   "metadata": {},
   "outputs": [],
   "source": [
    "employee_1 = Employees('Jake', 1234, 2000, 15000)\n"
   ]
  },
  {
   "cell_type": "code",
   "execution_count": 27,
   "metadata": {},
   "outputs": [
    {
     "data": {
      "text/plain": [
       "('Jake', 1234, 2010)"
      ]
     },
     "execution_count": 27,
     "metadata": {},
     "output_type": "execute_result"
    }
   ],
   "source": [
    "employee_1.name, employee_1.id_no, employee_1.joining_year"
   ]
  },
  {
   "cell_type": "code",
   "execution_count": 22,
   "metadata": {},
   "outputs": [],
   "source": [
    "def year_exp(self, current_year):\n",
    "        joining_year = self.joining_year\n",
    "        years_served = current_year - joining_year\n",
    "        return years_served"
   ]
  },
  {
   "cell_type": "code",
   "execution_count": 9,
   "metadata": {},
   "outputs": [
    {
     "data": {
      "text/plain": [
       "20"
      ]
     },
     "execution_count": 9,
     "metadata": {},
     "output_type": "execute_result"
    }
   ],
   "source": [
    "employee_1.year_exp(2020)"
   ]
  },
  {
   "cell_type": "code",
   "execution_count": 24,
   "metadata": {},
   "outputs": [],
   "source": [
    "def salary_raise(self):\n",
    "    current_year = 2020\n",
    "    years_served = self.year_exp(current_year)\n",
    "    if years_served >= 5:\n",
    "        amt = years_served//5\n",
    "        print(\"eligible for raise with a percentage of \", amt*10)\n",
    "    else:\n",
    "        print(\"not eligible for raise\")\n",
    "        "
   ]
  },
  {
   "cell_type": "code",
   "execution_count": 32,
   "metadata": {},
   "outputs": [
    {
     "name": "stdout",
     "output_type": "stream",
     "text": [
      "eligible for raise with a percentage of  40\n"
     ]
    }
   ],
   "source": [
    "employee_1.salary_raise()"
   ]
  },
  {
   "cell_type": "code",
   "execution_count": null,
   "metadata": {},
   "outputs": [],
   "source": []
  }
 ],
 "metadata": {
  "kernelspec": {
   "display_name": "Python 3",
   "language": "python",
   "name": "python3"
  },
  "language_info": {
   "codemirror_mode": {
    "name": "ipython",
    "version": 3
   },
   "file_extension": ".py",
   "mimetype": "text/x-python",
   "name": "python",
   "nbconvert_exporter": "python",
   "pygments_lexer": "ipython3",
   "version": "3.8.5"
  }
 },
 "nbformat": 4,
 "nbformat_minor": 4
}
