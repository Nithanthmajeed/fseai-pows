{
 "cells": [
  {
   "cell_type": "markdown",
   "metadata": {},
   "source": [
    "# Program for defining two functions"
   ]
  },
  {
   "cell_type": "code",
   "execution_count": 9,
   "metadata": {},
   "outputs": [
    {
     "name": "stdout",
     "output_type": "stream",
     "text": [
      "Enter the number9\n",
      "the square of the number is  81 \n",
      " the cube of the number is 729\n"
     ]
    }
   ],
   "source": [
    "##Since the assignment is to define two funtions i created square and cube##\n",
    "## i have also defined one function which prints both square and cube which i find much simpler##\n",
    "num=int(input(\"Enter the number\"))\n",
    "def square(num1):\n",
    "    \n",
    "     return num1**2\n",
    "        \n",
    "    \n",
    "\n",
    "def cube(num2):\n",
    "   \n",
    "     return num2**3\n",
    "    \n",
    "\n",
    "print(\"the square of the number is \",square(num) ,\"\\n the cube of the number is\",cube(num))\n",
    "    "
   ]
  }
 ],
 "metadata": {
  "kernelspec": {
   "display_name": "Python 3",
   "language": "python",
   "name": "python3"
  },
  "language_info": {
   "codemirror_mode": {
    "name": "ipython",
    "version": 3
   },
   "file_extension": ".py",
   "mimetype": "text/x-python",
   "name": "python",
   "nbconvert_exporter": "python",
   "pygments_lexer": "ipython3",
   "version": "3.8.5"
  }
 },
 "nbformat": 4,
 "nbformat_minor": 4
}
