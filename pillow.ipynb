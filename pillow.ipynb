{
 "cells": [
  {
   "cell_type": "code",
   "execution_count": 6,
   "metadata": {},
   "outputs": [
    {
     "name": "stdout",
     "output_type": "stream",
     "text": [
      "the shape of the original image is :=  (1080, 1920, 3)\n"
     ]
    }
   ],
   "source": [
    "from PIL import Image,ImageOps\n",
    "import numpy as np\n",
    "image=Image.open('testi.jpg')\n",
    "gray_img=ImageOps.grayscale(image)\n",
    "image.show()\n",
    "gray_img.show()\n",
    "print(\"the shape of the original image is := \", np.shape(image))"
   ]
  },
  {
   "cell_type": "code",
   "execution_count": null,
   "metadata": {},
   "outputs": [],
   "source": []
  }
 ],
 "metadata": {
  "kernelspec": {
   "display_name": "Python 3",
   "language": "python",
   "name": "python3"
  },
  "language_info": {
   "codemirror_mode": {
    "name": "ipython",
    "version": 3
   },
   "file_extension": ".py",
   "mimetype": "text/x-python",
   "name": "python",
   "nbconvert_exporter": "python",
   "pygments_lexer": "ipython3",
   "version": "3.8.5"
  }
 },
 "nbformat": 4,
 "nbformat_minor": 4
}
