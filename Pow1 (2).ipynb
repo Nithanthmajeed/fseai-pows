{
 "cells": [
  {
   "cell_type": "markdown",
   "metadata": {},
   "source": [
    "## part 1\n"
   ]
  },
  {
   "cell_type": "code",
   "execution_count": null,
   "metadata": {},
   "outputs": [],
   "source": [
    "import sys\n",
    "\n",
    "\n",
    "g=input(\"enter your longest word\")\n",
    "h=len(g)\n",
    "m=sys.getsizeof(g)\n",
    "print(\"the length of the enterd word is:\",h)\n",
    "print(\"the memory occupied by the word is:\",m)"
   ]
  },
  {
   "cell_type": "markdown",
   "metadata": {},
   "source": [
    "## part 2"
   ]
  },
  {
   "cell_type": "code",
   "execution_count": 9,
   "metadata": {},
   "outputs": [
    {
     "data": {
      "text/plain": [
       "52"
      ]
     },
     "execution_count": 9,
     "metadata": {},
     "output_type": "execute_result"
    }
   ],
   "source": [
    "q='a'                           ## iunderstand by running these commands that , the memory occupied to store a string is 1 to 4 bytes\n",
    "                                ##And an additional 49 bytes are added to the memory which i came to notice\n",
    "w='ab'\n",
    "e='abc'\n",
    "sys.getsizeof(e)\n",
    "\n",
    "\n"
   ]
  },
  {
   "cell_type": "markdown",
   "metadata": {},
   "source": [
    "## part 3"
   ]
  },
  {
   "cell_type": "code",
   "execution_count": 44,
   "metadata": {},
   "outputs": [
    {
     "name": "stdout",
     "output_type": "stream",
     "text": [
      "enter your first namenithanth\n",
      "enter your last namemajeed\n",
      "hi NITHANTH MAJEED\n",
      "your user name is: nithanthmajeed@example\n",
      "None\n"
     ]
    }
   ],
   "source": [
    "f_name=list(input(\"enter your first name\"))  ## i have converted the following input to list here itself ##\n",
    "l_name=list(input(\"enter your last name\"))\n",
    "\n",
    "\n",
    "\n",
    "f_name= [i.upper() for i in f_name]\n",
    "l_name= [i.upper() for i in l_name]\n",
    "\n",
    "g=print(\"HI\",\"\".join(f_name) ,\"\".join(l_name))\n",
    "\n",
    "u_name=(f_name+l_name)\n",
    "u_name.append(\"@example\")\n",
    "\n",
    "h=\"\".join(u_name).lower()\n",
    "\n",
    "\n",
    "\n",
    "print(\"your user name is:\",h)\n",
    "\n",
    "print(g)\n"
   ]
  },
  {
   "cell_type": "code",
   "execution_count": null,
   "metadata": {},
   "outputs": [],
   "source": []
  }
 ],
 "metadata": {
  "kernelspec": {
   "display_name": "Python 3",
   "language": "python",
   "name": "python3"
  },
  "language_info": {
   "codemirror_mode": {
    "name": "ipython",
    "version": 3
   },
   "file_extension": ".py",
   "mimetype": "text/x-python",
   "name": "python",
   "nbconvert_exporter": "python",
   "pygments_lexer": "ipython3",
   "version": "3.8.5"
  }
 },
 "nbformat": 4,
 "nbformat_minor": 4
}
