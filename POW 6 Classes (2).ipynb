{
 "cells": [
  {
   "cell_type": "code",
   "execution_count": 19,
   "metadata": {},
   "outputs": [],
   "source": [
    "import matplotlib.pyplot as plt\n",
    "%matplotlib inline\n",
    "\n",
    "\n",
    "class car:\n",
    "    def __init__(self,speed,color,history=[(0,0)]):\n",
    "        self.speed=speed\n",
    "        self.history=history\n",
    "        self.color=color\n",
    "        \n",
    "    \n",
    "    def drive(self,direction):\n",
    "        self.direction=direction.lower()\n",
    "        current_location=self.history[-1]\n",
    "        x=current_location[0]\n",
    "        y=current_location[1]\n",
    "        if direction == \"north\":\n",
    "            y += self.speed\n",
    "        elif direction ==\"south\":\n",
    "            y -= self.speed\n",
    "        elif direction ==\"east\":\n",
    "            x += self.speed\n",
    "        elif direction == \"west\":\n",
    "            x -= self.speed\n",
    "        else:\n",
    "            print(\"direction invalid\")\n",
    "        self.history.append((x,y))\n",
    "        \n",
    "        self.draw()\n",
    "        \n",
    "        \n",
    "        return self.history\n",
    "        \n",
    "   \n",
    "   \n",
    "    def draw(self):\n",
    "        plt.clf()\n",
    "        x = []\n",
    "        y = []\n",
    "        for element in self.history:\n",
    "            x.append(element[0])\n",
    "            y.append(element[1])\n",
    "            plt.plot(x, y, color=self.color)\n",
    "            plt.xlabel(\"SOUTH\")\n",
    "            plt.ylabel(\"WEST\")\n",
    "            plt.title(\"NORTH\")\n",
    "            \n",
    "           \n",
    "            \n",
    " \n",
    "        "
   ]
  },
  {
   "cell_type": "code",
   "execution_count": 20,
   "metadata": {},
   "outputs": [],
   "source": [
    "benz=car(1,'red')"
   ]
  },
  {
   "cell_type": "code",
   "execution_count": 4,
   "metadata": {},
   "outputs": [
    {
     "data": {
      "text/plain": [
       "<__main__.car at 0x26fa7391c10>"
      ]
     },
     "execution_count": 4,
     "metadata": {},
     "output_type": "execute_result"
    }
   ],
   "source": [
    "benz"
   ]
  },
  {
   "cell_type": "code",
   "execution_count": 21,
   "metadata": {},
   "outputs": [
    {
     "data": {
      "text/plain": [
       "[(0, 0), (0, 1)]"
      ]
     },
     "execution_count": 21,
     "metadata": {},
     "output_type": "execute_result"
    },
    {
     "data": {
      "image/png": "[encoded data removed]",
      "text/plain": [
       "<Figure size 432x288 with 1 Axes>"
      ]
     },
     "metadata": {
      "needs_background": "light"
     },
     "output_type": "display_data"
    }
   ],
   "source": [
    "benz.drive(\"north\")"
   ]
  },
  {
   "cell_type": "code",
   "execution_count": null,
   "metadata": {},
   "outputs": [],
   "source": []
  }
 ],
 "metadata": {
  "kernelspec": {
   "display_name": "Python 3",
   "language": "python",
   "name": "python3"
  },
  "language_info": {
   "codemirror_mode": {
    "name": "ipython",
    "version": 3
   },
   "file_extension": ".py",
   "mimetype": "text/x-python",
   "name": "python",
   "nbconvert_exporter": "python",
   "pygments_lexer": "ipython3",
   "version": "3.8.5"
  }
 },
 "nbformat": 4,
 "nbformat_minor": 4
}
